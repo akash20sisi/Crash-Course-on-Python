{
  "nbformat": 4,
  "nbformat_minor": 0,
  "metadata": {
    "colab": {
      "provenance": [],
      "authorship_tag": "ABX9TyOnGczAfFnz+6k/wEVm2S0/",
      "include_colab_link": true
    },
    "kernelspec": {
      "name": "python3",
      "display_name": "Python 3"
    },
    "language_info": {
      "name": "python"
    }
  },
  "cells": [
    {
      "cell_type": "markdown",
      "metadata": {
        "id": "view-in-github",
        "colab_type": "text"
      },
      "source": [
        "<a href=\"https://colab.research.google.com/github/akash20sisi/Python/blob/main/Classes.ipynb\" target=\"_parent\"><img src=\"https://colab.research.google.com/assets/colab-badge.svg\" alt=\"Open In Colab\"/></a>"
      ]
    },
    {
      "cell_type": "markdown",
      "source": [
        "**In object-oriented programming you\n",
        "write classes that represent real-world things\n",
        "and situations, and you create objects based on these\n",
        "classes. When you write a class, you define the general\n",
        "behavior that a whole category of objects can have.\n",
        "When you create individual objects from the class, each object is automatically equipped with the general behavior; you can then give each object\n",
        "whatever unique traits you desire.**\n",
        "\n"
      ],
      "metadata": {
        "id": "niMHNlPAZ1cf"
      }
    },
    {
      "cell_type": "markdown",
      "source": [
        "**Creating and Using a Class**"
      ],
      "metadata": {
        "id": "wBC6IJ7Wauj9"
      }
    },
    {
      "cell_type": "markdown",
      "source": [
        "**A simple Dog Class that represents a Dog - not one dog in particular, but any dog.**\n",
        "* What do we know about most dogs?\n",
        "* They have a name and age.\n",
        "* We also know that most dog sit and roll over.\n",
        "* These two pieces of information will go in our Dog class because they are common to most dogs.\n",
        "* After our class is written,\n",
        "we'll use it to make individual instances, each of which represents one specific dog.   \n",
        "\n"
      ],
      "metadata": {
        "id": "otDK-jn5bBlz"
      }
    },
    {
      "cell_type": "markdown",
      "source": [
        "* By convention, capitalized names refer to classes\n",
        "in Python.\n",
        "\n",
        "* A function that's part of a class is a method. Everything you learned about\n",
        "functions applies to methods as well; the only practical difference for now is\n",
        "the way we'll call methods. The __init__() method is a special method\n",
        "that Python runs automatically whenever we create a new instance based\n",
        "on the Dog class.\n",
        "\n",
        "* We define the __init__() method to have three parameters: self, name,\n",
        "and age. The self parameter is required in the method definition, and it\n",
        "must come first before the other parameters. It must be included in the definition because when Python calls this method later (to create an instance\n",
        "of Dog), the method call will automatically pass the self argument.\n",
        "\n",
        "* Every\n",
        "method call associated with an instance automatically passes self, which is\n",
        "a reference to the instance itself; it gives the individual instance access to\n",
        "the attributes and methods in the class.\n"
      ],
      "metadata": {
        "id": "kt-B5Ri7g3RH"
      }
    },
    {
      "cell_type": "markdown",
      "source": [
        "* When we make an instance of Dog,\n",
        "Python will call the __init__() method from the Dog class. We’ll pass Dog()\n",
        "a name and an age as arguments; self is passed automatically, so we don’t\n",
        "need to pass it. Whenever we want to make an instance from the Dog class,\n",
        "we’ll provide values for only the last two parameters, name and age."
      ],
      "metadata": {
        "id": "MZfnUOtYmN21"
      }
    },
    {
      "cell_type": "markdown",
      "source": [
        "* Any variable\n",
        "prefixed with self is available to every method in the class, and we’ll also be\n",
        "able to access these variables through any instance created from the class.\n",
        "The line self.name = name takes the value associated with the parameter name\n",
        "and assigns it to the variable name, which is then attached to the instance\n",
        "being created. The same process happens with self.age = age. Variables that\n",
        "are accessible through instances like this are called attributes."
      ],
      "metadata": {
        "id": "XsRoF-sVmR0b"
      }
    },
    {
      "cell_type": "markdown",
      "source": [
        "* The Dog class has two other methods defined: sit() and roll_over().\n",
        "Because these methods don’t need additional information to run, we just\n",
        "define them to have one parameter, self. The instances we create later\n",
        "will have access to these methods."
      ],
      "metadata": {
        "id": "io361N_ArGw7"
      }
    },
    {
      "cell_type": "code",
      "execution_count": null,
      "metadata": {
        "id": "mGbOOSFzZxap"
      },
      "outputs": [],
      "source": [
        "class Dog:\n",
        "  \"\"\" A simple attempt to model a dog.\"\"\"\n",
        "\n",
        "  def __init__(self,name,age):\n",
        "    \"\"\"Initialize the name and age attribute\"\"\"\n",
        "    self.name  = name\n",
        "    self.age = age\n",
        "\n",
        "  def sit(self):\n",
        "    \"\"\"simulate a dog sitting in response to a command\"\"\"\n",
        "    print(f\"{self.name} is now sitting\")\n",
        "\n",
        "  def roll_over(self):\n",
        "    \"\"\"simulate rolling over in response to a command\"\"\"\n",
        "    print(f\"{self.name} rolled over.\")"
      ]
    },
    {
      "cell_type": "markdown",
      "source": [
        "**Making an Instance from a Class**\n",
        "\n",
        "* Think of a class as a set of instructions for how to make an instance. The\n",
        "class Dog is a set of instructions that tells Python how to make individual\n",
        "instances representing specific dogs.\n",
        "\n",
        "* The Dog class we're using here is the one we just wrote in the previous\n",
        "example. At we tell Python to create a dog whose name is 'Willie' and\n",
        "whose age is 6. When Python reads this line, it calls the __init__() method\n",
        "in Dog with the arguments 'Willie' and 6. The __init__() method creates an\n",
        "instance representing this particular dog and sets the name and age attributes\n",
        "using the values we provided. Python then returns an instance representing\n",
        "this dog. We assign that instance to the variable my_dog."
      ],
      "metadata": {
        "id": "tljAVlHTrcVI"
      }
    },
    {
      "cell_type": "markdown",
      "source": [
        "**Accessing Attributes**\n",
        "\n",
        "* To access the attributes of an instance, you use dot notation.\n",
        "* Dot notation is used often in Python. This syntax demonstrates how\n",
        "Python finds an attribute's value. Here Python looks at the instance my_dog\n",
        "and then finds the attribute name associated with my_dog. This is the same attribute referred to as self.name in the class Dog."
      ],
      "metadata": {
        "id": "WRmzHqJAsuWg"
      }
    },
    {
      "cell_type": "code",
      "source": [
        "my_dog = Dog('errison', 5)\n",
        "print(f\"My dog's name is {my_dog.name}.\")\n",
        "print(f\"my dog's age is {my_dog.age}.\")"
      ],
      "metadata": {
        "colab": {
          "base_uri": "https://localhost:8080/"
        },
        "id": "7zGI4QChrqoJ",
        "outputId": "985473a5-b65d-458b-a8b2-2221f1a54333"
      },
      "execution_count": null,
      "outputs": [
        {
          "output_type": "stream",
          "name": "stdout",
          "text": [
            "My dog's name is errison.\n",
            "my dog's age is 5.\n"
          ]
        }
      ]
    },
    {
      "cell_type": "markdown",
      "source": [
        "**Calling Methods**\n",
        "\n",
        "* After we create an instance from the class Dog, we can use dot notation to\n",
        "call any method defined in Dog.\n",
        "\n",
        "* To call a method, give the name of the instance (in this case, my_dog)\n",
        "and the method you want to call, separated by a dot. When Python reads\n",
        "my_dog.sit(), it looks for the method sit() in the class Dog and runs that\n",
        "code. Python interprets the line my_dog.roll_over() in the same way."
      ],
      "metadata": {
        "id": "5HT_m7B3tPal"
      }
    },
    {
      "cell_type": "code",
      "source": [
        "my_dog.sit()\n",
        "my_dog.roll_over()"
      ],
      "metadata": {
        "colab": {
          "base_uri": "https://localhost:8080/"
        },
        "id": "zhwJDhijtQ1h",
        "outputId": "53ba9200-13a9-4fea-9209-14fc4ae7de34"
      },
      "execution_count": null,
      "outputs": [
        {
          "output_type": "stream",
          "name": "stdout",
          "text": [
            "errison is now sitting\n",
            "errison rolled over.\n"
          ]
        }
      ]
    },
    {
      "cell_type": "markdown",
      "source": [
        "**Car Class**\n",
        "\n",
        "* Let's write a new class representing a car. Our class will store information\n",
        "about the kind of car we're working with, and it will have a method that\n",
        "summarizes this information."
      ],
      "metadata": {
        "id": "qIXliPXXIKo8"
      }
    },
    {
      "cell_type": "code",
      "source": [
        "class Car:\n",
        "  \"\"\"A simple attempt to represent a Car\"\"\"\n",
        "\n",
        "  def __init__(self,make,model,year):\n",
        "    self.make  = make\n",
        "    self.model = model\n",
        "    self.year = year\n",
        "\n",
        "  def get_descriptive_name(self):\n",
        "    \"\"\"Return a neatly formatted descriptive name.\"\"\"\n",
        "    long_name  = f\"{self.year} {self.make} {self.model}\"\n",
        "    return long_name.title()\n",
        "\n",
        "my_new_car = Car('audi','a4',2019)\n",
        "print(my_new_car.get_descriptive_name())\n"
      ],
      "metadata": {
        "id": "MWcWGJabtbiN",
        "colab": {
          "base_uri": "https://localhost:8080/"
        },
        "outputId": "c35dfb22-ca6a-4ac6-cc84-b50ab1f5bbf7"
      },
      "execution_count": null,
      "outputs": [
        {
          "output_type": "stream",
          "name": "stdout",
          "text": [
            "2019 Audi A4\n"
          ]
        }
      ]
    },
    {
      "cell_type": "markdown",
      "source": [
        "**Setting a Default Value for an Attribute**\n",
        "* When an instance is created, attributes can be defined without being\n",
        "passed in as parameters. These attributes can be defined in the __init__()\n",
        "method, where they are assigned a default value.\n",
        "\n",
        "* Let's add an attribute called odometer_reading that always starts with a\n",
        "value of 0. We'll also add a method read_odometer() that helps us read each\n",
        "car's odometer."
      ],
      "metadata": {
        "id": "sDRcxypCKOct"
      }
    },
    {
      "cell_type": "code",
      "source": [
        "class Car:\n",
        "  \"\"\"A simple attempt to represent a Car\"\"\"\n",
        "\n",
        "  def __init__(self,make,model,year):\n",
        "    self.make  = make\n",
        "    self.model = model\n",
        "    self.year = year\n",
        "    self.odometer_reading = 0\n",
        "\n",
        "  def get_descriptive_name(self):\n",
        "    \"\"\"Return a neatly formatted descriptive name.\"\"\"\n",
        "    long_name  = f\"{self.year} {self.make} {self.model}\"\n",
        "    return long_name.title()\n",
        "\n",
        "  def read_odometer(self):\n",
        "    \"\"\"Print a statement showing the car's mileage.\"\"\"\n",
        "    print(f\"This car has {self.odometer_reading} miles on it.\")\n",
        "\n",
        "\n",
        "my_new_car = Car('audi','a4',2019)\n",
        "print(my_new_car.get_descriptive_name())\n",
        "my_new_car.read_odometer()"
      ],
      "metadata": {
        "colab": {
          "base_uri": "https://localhost:8080/"
        },
        "id": "i0ptqkFBKP5F",
        "outputId": "56748d18-0250-4cb0-8d2c-fd5fce4c4aee"
      },
      "execution_count": null,
      "outputs": [
        {
          "output_type": "stream",
          "name": "stdout",
          "text": [
            "2019 Audi A4\n",
            "This car has 0 miles on it.\n"
          ]
        }
      ]
    },
    {
      "cell_type": "markdown",
      "source": [
        "**Modifying Attribute Values**\n",
        "\n",
        "* Modifying an Attribute’s Value Directly.\n",
        "* The simplest way to modify the value of an attribute is to access the attribute directly through an instance."
      ],
      "metadata": {
        "id": "zbJrgM5cLqlu"
      }
    },
    {
      "cell_type": "code",
      "source": [
        "my_new_car.odometer_reading = 25\n",
        "my_new_car.read_odometer()"
      ],
      "metadata": {
        "colab": {
          "base_uri": "https://localhost:8080/"
        },
        "id": "bcoJ9L87LfvE",
        "outputId": "b004bedb-01c1-42ea-89e8-3df264cb0a4a"
      },
      "execution_count": null,
      "outputs": [
        {
          "output_type": "stream",
          "name": "stdout",
          "text": [
            "This car has 25 miles on it.\n"
          ]
        }
      ]
    },
    {
      "cell_type": "markdown",
      "source": [
        "**Modifying an Attribute’s Value Through a Method**\n",
        "\n",
        "* It can be helpful to have methods that update certain attributes for you.\n",
        "Instead of accessing the attribute directly, you pass the new value to a\n",
        "method that handles the updating internally."
      ],
      "metadata": {
        "id": "0rkM_F1qMnbh"
      }
    },
    {
      "cell_type": "code",
      "source": [
        "class Car:\n",
        "  \"\"\"A simple attempt to represent a Car\"\"\"\n",
        "\n",
        "  def __init__(self,make,model,year):\n",
        "    self.make  = make\n",
        "    self.model = model\n",
        "    self.year = year\n",
        "    self.odometer_reading = 0\n",
        "\n",
        "  def get_descriptive_name(self):\n",
        "    \"\"\"Return a neatly formatted descriptive name.\"\"\"\n",
        "    long_name  = f\"{self.year} {self.make} {self.model}\"\n",
        "    return long_name.title()\n",
        "\n",
        "  def read_odometer(self):\n",
        "    \"\"\"Print a statement showing the car's mileage.\"\"\"\n",
        "    print(f\"This car has {self.odometer_reading} miles on it.\")\n",
        "\n",
        "  def update_odometer(self,mileage):\n",
        "    \"\"\"Set the odometer reading to a given value\"\"\"\n",
        "    self.odometer_reading = mileage\n",
        "\n",
        "my_new_car  = Car('audi','a4',2025)\n",
        "print(my_new_car.get_descriptive_name())\n",
        "my_new_car.update_odometer(23)\n",
        "my_new_car.read_odometer()"
      ],
      "metadata": {
        "colab": {
          "base_uri": "https://localhost:8080/"
        },
        "id": "m3WOvneWMilE",
        "outputId": "33b3f8ab-5099-4a2b-8f66-dcf37d8c10a3"
      },
      "execution_count": null,
      "outputs": [
        {
          "output_type": "stream",
          "name": "stdout",
          "text": [
            "2025 Audi A4\n",
            "This car has 23 miles on it.\n"
          ]
        }
      ]
    },
    {
      "cell_type": "markdown",
      "source": [
        "**We can extend the method update_odometer() to do additional work\n",
        "every time the odometer reading is modified. Let’s add a little logic to\n",
        "make sure no one tries to roll back the odometer reading:**"
      ],
      "metadata": {
        "id": "g52fFBZGO2w0"
      }
    },
    {
      "cell_type": "code",
      "source": [
        "class Car:\n",
        "  \"\"\"A simple attempt to represent a Car\"\"\"\n",
        "\n",
        "  def __init__(self,make,model,year):\n",
        "    self.make  = make\n",
        "    self.model = model\n",
        "    self.year = year\n",
        "    self.odometer_reading = 0\n",
        "\n",
        "  def get_descriptive_name(self):\n",
        "    \"\"\"Return a neatly formatted descriptive name.\"\"\"\n",
        "    long_name  = f\"{self.year} {self.make} {self.model}\"\n",
        "    return long_name.title()\n",
        "class Car:\n",
        "  \"\"\"A simple attempt to represent a Car\"\"\"\n",
        "\n",
        "  def __init__(self,make,model,year):\n",
        "    self.make  = make\n",
        "    self.model = model\n",
        "    self.year = year\n",
        "    self.odometer_reading = 0\n",
        "\n",
        "  def get_descriptive_name(self):\n",
        "    \"\"\"Return a neatly formatted descriptive name.\"\"\"\n",
        "    long_name  = f\"{self.year} {self.make} {self.model}\"\n",
        "    return long_name.title()\n",
        "\n",
        "  def read_odometer(self):\n",
        "       \"\"\"Print a statement showing the car's mileage.\"\"\"\n",
        "       print(f\"This car has {self.odometer_reading} miles on it.\")\n",
        "\n",
        "  def update_odometer(self,mileage):\n",
        "      \"\"\"\n",
        "      Set the odometer reading to the given value.\n",
        "      Reject the change if it attempts to roll the odometer back.\n",
        "      \"\"\"\n",
        "      if mileage >= self.odometer_reading:\n",
        "        self.odometer_reading = mileage\n",
        "      else:\n",
        "        print(\"you can't roll back an odometer!\")\n",
        "\n",
        "my_new_car  = Car('audi','a4',2025)\n",
        "print(my_new_car.get_descriptive_name())\n",
        "my_new_car.update_odometer(9)\n",
        "my_new_car.read_odometer()\n",
        "  def read_odometer(self):\n",
        "       \"\"\"Print a statement showing the car's mileage.\"\"\"\n",
        "       print(f\"This car has {self.odometer_reading} miles on it.\")\n",
        "\n",
        "  def update_odometer(self,mileage):\n",
        "      \"\"\"\n",
        "      Set the odometer reading to the given value.\n",
        "      Reject the change if it attempts to roll the odometer back.\n",
        "      \"\"\"\n",
        "      if mileage >= self.odometer_reading:\n",
        "        self.odometer_reading = mileage\n",
        "      else:\n",
        "        print(\"you can't roll back an odometer!\")\n",
        "\n",
        "my_new_car  = Car('audi','a4',2025)\n",
        "print(my_new_car.get_descriptive_name())\n",
        "my_new_car.update_odometer(9)\n",
        "my_new_car.read_odometer()"
      ],
      "metadata": {
        "colab": {
          "base_uri": "https://localhost:8080/"
        },
        "id": "lpJNc2qYOn6P",
        "outputId": "4d7c162a-90ba-44ad-ec56-d2bb6f350f6a"
      },
      "execution_count": null,
      "outputs": [
        {
          "output_type": "stream",
          "name": "stdout",
          "text": [
            "2025 Audi A4\n",
            "This car has 9 miles on it.\n"
          ]
        }
      ]
    },
    {
      "cell_type": "code",
      "source": [
        "my_new_car.update_odometer(2)\n",
        "my_new_car.read_odometer()"
      ],
      "metadata": {
        "colab": {
          "base_uri": "https://localhost:8080/"
        },
        "id": "nRVcwvioR5pT",
        "outputId": "bc2c2bcb-00cf-45df-ef99-490ad4669170"
      },
      "execution_count": null,
      "outputs": [
        {
          "output_type": "stream",
          "name": "stdout",
          "text": [
            "you can't roll back an odometer!\n",
            "This car has 9 miles on it.\n"
          ]
        }
      ]
    },
    {
      "cell_type": "markdown",
      "source": [
        "**Incrementing an Attribute’s Value Through a Method**"
      ],
      "metadata": {
        "id": "DTZjx8QRcsQY"
      }
    },
    {
      "cell_type": "code",
      "source": [
        "class Car:\n",
        "  \"\"\"A simple attempt to represent a Car\"\"\"\n",
        "\n",
        "  def __init__(self,make,model,year):\n",
        "    self.make  = make\n",
        "    self.model = model\n",
        "    self.year = year\n",
        "    self.odometer_reading = 0\n",
        "\n",
        "  def get_descriptive_name(self):\n",
        "    \"\"\"Return a neatly formatted descriptive name.\"\"\"\n",
        "    long_name  = f\"{self.year} {self.make} {self.model}\"\n",
        "    return long_name.title()\n",
        "\n",
        "  def read_odometer(self):\n",
        "       \"\"\"Print a statement showing the car's mileage.\"\"\"\n",
        "       print(f\"This car has {self.odometer_reading} miles on it.\")\n",
        "\n",
        "  def update_odometer(self,mileage):\n",
        "      \"\"\"\n",
        "      Set the odometer reading to the given value.\n",
        "      Reject the change if it attempts to roll the odometer back.\n",
        "      \"\"\"\n",
        "      if mileage >= self.odometer_reading:\n",
        "        self.odometer_reading = mileage\n",
        "      else:\n",
        "        print(\"you can't roll back an odometer!\")\n",
        "\n",
        "  def increment_odometer(self,miles):\n",
        "    \"\"\"Add the given amount to the odometer reading.\"\"\"\n",
        "    self.odometer_reading += miles\n",
        "\n",
        "my_used_car  = Car('audi','a4',2025)\n",
        "print(my_used_car.get_descriptive_name())\n",
        "my_used_car.update_odometer(100)\n",
        "my_used_car.read_odometer()\n",
        "my_used_car.increment_odometer(100)\n",
        "my_used_car.read_odometer()"
      ],
      "metadata": {
        "colab": {
          "base_uri": "https://localhost:8080/"
        },
        "id": "sdvQcIMOcwJs",
        "outputId": "300119d3-0be0-422f-d9df-c16c842193c4"
      },
      "execution_count": 3,
      "outputs": [
        {
          "output_type": "stream",
          "name": "stdout",
          "text": [
            "2025 Audi A4\n",
            "This car has 100 miles on it.\n",
            "This car has 200 miles on it.\n"
          ]
        }
      ]
    },
    {
      "cell_type": "markdown",
      "source": [
        "**Inheritance**\n",
        "* You don't always have to start from scratch when writing a class. If the class\n",
        "you're writing is a specialized version of another class you wrote, you can\n",
        "use inheritance. When one class inherits from another, it takes on the attributes and methods of the first class. The original class is called the parent\n",
        "class, and the new class is the child class. The child class can inherit any\n",
        "or all of the attributes and methods of its parent class, but it’s also free to\n",
        "define new attributes and methods of its own."
      ],
      "metadata": {
        "id": "Cp8Dgv3heVo8"
      }
    },
    {
      "cell_type": "markdown",
      "source": [
        "**The __init__() Method for a Child Class\n",
        "When you're writing a new class based on an existing class, you'll often\n",
        "want to call the __init__() method from the parent class. This will initialize\n",
        "any attributes that were defined in the parent __init__() method and make\n",
        "them available in the child class.**"
      ],
      "metadata": {
        "id": "i_Udx4_IenSi"
      }
    },
    {
      "cell_type": "code",
      "source": [
        "class ElectricCar(Car):\n",
        "  \"\"\"Represent aspects of a car, specific to electric vechles\"\"\"\n",
        "\n",
        "  def __init__(self,make,model,year):\n",
        "    \"\"\"Initialize the attributes of the parent class\"\"\"\n",
        "    super().__init__(make,model,year)\n",
        "\n",
        "my_tesla  = ElectricCar('tesla','model s',2019)\n",
        "print(my_tesla.get_descriptive_name())"
      ],
      "metadata": {
        "colab": {
          "base_uri": "https://localhost:8080/"
        },
        "id": "2BlvNFtEetP3",
        "outputId": "90b0e2d3-cf78-4eca-a248-6399c609bb82"
      },
      "execution_count": 5,
      "outputs": [
        {
          "output_type": "stream",
          "name": "stdout",
          "text": [
            "2019 Tesla Model S\n"
          ]
        }
      ]
    },
    {
      "cell_type": "markdown",
      "source": [
        "**Defining Attributes and Methods for the Child Class.**"
      ],
      "metadata": {
        "id": "BSaJvWbWiE1z"
      }
    },
    {
      "cell_type": "code",
      "source": [
        "class ElectricCar(Car):\n",
        "  \"\"\"Represent aspects of a car, specific to electric vechles\"\"\"\n",
        "\n",
        "  def __init__(self,make,model,year):\n",
        "    \"\"\"Initialize the attributes of the parent class\"\"\"\n",
        "    super().__init__(make,model,year)\n",
        "    self.battery_size = 45\n",
        "\n",
        "  def describe_battery(self):\n",
        "    \"\"\"Print a statement describing the battery\"\"\"\n",
        "    print(f\"This car has {self.battery_size}-kwh battery.\")\n",
        "\n",
        "my_tesla  = ElectricCar('tesla','model s',2019)\n",
        "print(my_tesla.get_descriptive_name())\n",
        "my_tesla.describe_battery()"
      ],
      "metadata": {
        "colab": {
          "base_uri": "https://localhost:8080/"
        },
        "id": "9L0oOFV-iHfQ",
        "outputId": "f9e9d4cc-6bbc-4a3f-9eda-0cd5479639f0"
      },
      "execution_count": 9,
      "outputs": [
        {
          "output_type": "stream",
          "name": "stdout",
          "text": [
            "2019 Tesla Model S\n",
            "This car has 45-kwh battery.\n"
          ]
        }
      ]
    },
    {
      "cell_type": "markdown",
      "source": [
        "**Overriding Methods from the Parent Class**\n",
        "\n",
        "* You can override any method from the parent class that doesn’t fit what\n",
        "you’re trying to model with the child class. To do this, you define a method\n",
        "in the child class with the same name as the method you want to override in\n",
        "the parent class. Python will disregard the parent class method and only\n",
        "pay attention to the method you define in the child class.\n",
        "Say the class Car had a method called fill_gas_tank(). This method is\n",
        "meaningless for an all-electric vehicle, so you might want to override this\n",
        "method.\n",
        "\n",
        "* Here’s one way to do that:\n",
        "* class ElectricCar(Car):\n",
        "* --snip--\n",
        "* def fill_gas_tank(self):\n",
        "* \"\"\"Electric cars don't have gas tanks.\"\"\"\n",
        "* print(\"This car doesn't need a gas tank!\")."
      ],
      "metadata": {
        "id": "pEoUUwSYk3MK"
      }
    },
    {
      "cell_type": "markdown",
      "source": [
        "**Instances as Attributes**"
      ],
      "metadata": {
        "id": "faj0hxvMoG6y"
      }
    },
    {
      "cell_type": "code",
      "source": [
        "class Battery:\n",
        "  \"\"\"A simple attempt to model a battery for an electric car.\"\"\"\n",
        "\n",
        "  def __init__(self, battery_size=75):\n",
        "    \"\"\"Initialize the battery's attributes.\"\"\"\n",
        "    self.battery_size = battery_size\n",
        "\n",
        "  def describe_battery(self):\n",
        "    \"\"\"Print a statement describing the battery size.\"\"\"\n",
        "    print(f\"This car has a {self.battery_size}-kWh battery.\")\n",
        "\n",
        "\n",
        "  def get_range(self):\n",
        "    \"\"\"Print a statement about the range this battery provides.\"\"\"\n",
        "    if self.battery_size == 75:\n",
        "      range = 260\n",
        "    elif self.battery_size == 100:\n",
        "      range = 315\n",
        "    print(f\"This car can go about {range} miles on a full charge.\")\n",
        "\n",
        "\n",
        "class ElectricCar(Car):\n",
        "  \"\"\"Represent aspects of a car, specific to electric vehicles.\"\"\"\n",
        "  def __init__(self, make, model, year):\n",
        "    \"\"\"\n",
        "    Initialize attributes of the parent class.\n",
        "    Then initialize attributes specific to an electric car.\n",
        "\n",
        "    \"\"\"\n",
        "    super().__init__(make, model, year)\n",
        "    self.battery = Battery()\n",
        "\n",
        "my_tesla = ElectricCar('tesla', 'model s', 2019)\n",
        "print(my_tesla.get_descriptive_name())\n",
        "my_tesla.battery.describe_battery()\n",
        "my_tesla.battery.get_range()"
      ],
      "metadata": {
        "colab": {
          "base_uri": "https://localhost:8080/"
        },
        "id": "poJdBkVbk5Dz",
        "outputId": "78e1ed3e-2a6e-4bae-d024-8d949d2449fb"
      },
      "execution_count": 14,
      "outputs": [
        {
          "output_type": "stream",
          "name": "stdout",
          "text": [
            "2019 Tesla Model S\n",
            "This car has a 75-kWh battery.\n",
            "This car can go about 260 miles on a full charge.\n"
          ]
        }
      ]
    },
    {
      "cell_type": "code",
      "source": [],
      "metadata": {
        "id": "BBJh-my7oL5B"
      },
      "execution_count": null,
      "outputs": []
    }
  ]
}